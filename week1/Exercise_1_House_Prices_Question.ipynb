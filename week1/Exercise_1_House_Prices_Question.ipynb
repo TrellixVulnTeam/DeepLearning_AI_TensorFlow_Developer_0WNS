!pip install tensorflow==2.0.0-alpha0
import tensorflow as tf
import numpy as np
from tensorflow import keras
def house_model(y_new):
    xs = np.array([1.0, 2.0, 3.0, 4.0, 5.0, 6.0, 8.0, 9.0, 10.0], dtype=float)
    ys = np.array([1.0, 1.5, 2.0, 2.5, 3.0, 3.5, 4.5, 5.0, 5.5], dtype=float)
    model = tf.keras.Sequential([keras.layers.Dense(units=1, input_shape=[1])])
    model.compile(optimizer='adam', loss='mean_squared_error')
    model.fit(xs, ys, epochs=2500)
    return model.predict(y_new)[0]

prediction = house_model([7.0])
print(prediction)
